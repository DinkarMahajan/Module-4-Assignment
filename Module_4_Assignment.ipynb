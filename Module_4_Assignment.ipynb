{
  "nbformat": 4,
  "nbformat_minor": 0,
  "metadata": {
    "colab": {
      "provenance": []
    },
    "kernelspec": {
      "name": "python3",
      "display_name": "Python 3"
    },
    "language_info": {
      "name": "python"
    }
  },
  "cells": [
    {
      "cell_type": "markdown",
      "source": [
        "Theory Questions:"
      ],
      "metadata": {
        "id": "nO4Ts1VTtQvz"
      }
    },
    {
      "cell_type": "markdown",
      "source": [
        "1) What is the difference between a function and a method in Python?\n",
        "\n",
        "Function is a standalone block of code defined using \"def\" that can be called independently.\n",
        "\n",
        "Method is a function defined inside a class that is called on an object. It often uses self to access or modify the object's attributes."
      ],
      "metadata": {
        "id": "TSAe9W37uHcb"
      }
    },
    {
      "cell_type": "markdown",
      "source": [
        "2) Explain the concept of function arguments and parameters in Python.\n",
        "\n",
        "Parameters: Variables defined in the function definition to accept input values.\n",
        "Arguments: Actual passed to the function during a call."
      ],
      "metadata": {
        "id": "jqJwxPmfvQ-_"
      }
    },
    {
      "cell_type": "markdown",
      "source": [
        "3) What are the different ways to define and call a function in Python?\n",
        "\n",
        "The ways are:\n",
        "Standard Function: def func_name(): ,\n",
        "Default Parameter: def func(name=\"value\"): ,*args for Variable-Length Positional Arguments:def func(*args):, **kwargs for Variable-Length Keyword Arguments: def func(**kwargs): , Lambda Function(Anonymous): lambda x:x+1 , Nested Function: Function inside another function\n",
        "\n",
        "To call a function:\n",
        "1)Created by the programmer to perform specific tasks.\n",
        "2)Predefined functions provided by Python.\n",
        "3)Small, unnamed functions defined using the lambda keyword.Useful for short, one-line functions."
      ],
      "metadata": {
        "id": "3X0r_nh-wMel"
      }
    },
    {
      "cell_type": "markdown",
      "source": [
        "4) What is the purpose of the 'return' statement in a Python function?\n",
        "\n",
        "The return statement in a Python function is used to exit the function and send a result back to the caller. It allows the function to produce a value that can be used elsewhere in the program."
      ],
      "metadata": {
        "id": "g4i83Mtkzmb2"
      }
    },
    {
      "cell_type": "markdown",
      "source": [
        "5) What are iterators in Python and how do they differ from iterables?\n",
        "\n",
        "Iterable is an object that can be looped over(e.g., list,tuple,string).Can return an iterator with the iter() function.Used as an object in a for loop.\n",
        "\n",
        "Iterator is an object that keeps track of the iteration.Use directly with next().Used to retrieve values one at a time via next()."
      ],
      "metadata": {
        "id": "pRBlCwJy0dBZ"
      }
    },
    {
      "cell_type": "markdown",
      "source": [
        "6) Explain the concept of generators in Python and how they are defined.\n",
        "\n",
        "Generators in Python are special type of iterable, like lists or tuples, but instead of storing all items in memory at once, they generate items on the fly as you need them. This makes generators more memory efficient, especially when working with large datasets or infinite sequences."
      ],
      "metadata": {
        "id": "ZcYBemZv1bFE"
      }
    },
    {
      "cell_type": "markdown",
      "source": [
        "7) What are the advantages of using generators over regular functions?\n",
        "\n",
        "The advantages are:\n",
        "1) Memory efficiency\n",
        "2) Lazy Evaluation\n",
        "3) Improved performance for large data\n",
        "4) Simple syntax for complex iterations\n",
        "5) Allows infinite sequences\n",
        "6) Simpler code"
      ],
      "metadata": {
        "id": "8oyawHY92Qqz"
      }
    },
    {
      "cell_type": "markdown",
      "source": [
        "8) What is lambda function in Python and when is it typically used?\n",
        "\n",
        "A lambda function is a small, anonymous function defined using the lambda keyword in Python. Unlike regular functions created with the def keyword, lamda functions are concise and are used for short, throwaway operations where a full function definition would be overkill.\n",
        "\n",
        "Uses are:\n",
        "1) Short functions as arguments\n",
        "2) Simple event handling\n",
        "3) Inline callbacks and higher-order functions\n",
        "4) Reducing boilerplate code"
      ],
      "metadata": {
        "id": "RkCkRQY728jq"
      }
    },
    {
      "cell_type": "markdown",
      "source": [
        "9) Explain the purpose and usage of the 'map()' function in python.\n",
        "\n",
        "Purpose: Applies a given function to all items in an iterable and returns a map object.\n",
        "Usage: Useful for functional operations(such as transformations or computations) on each element of a list, tuple, or multiple iterables."
      ],
      "metadata": {
        "id": "3j0dkSgN4N1d"
      }
    },
    {
      "cell_type": "markdown",
      "source": [
        "10) What is the difference between 'map()' , 'reduce()' , and 'filter()' functions in Python?\n",
        "\n",
        "map(): Transforms each element of an iterable with a given function.\n",
        "reduce(): Cumulatively applies a binary function to the elements of an iterable to reduce them to single value.\n",
        "filter():Filters elements based on a condition (Boolean function) and returns only those that pass the condition."
      ],
      "metadata": {
        "id": "06eZWVX_5Qz8"
      }
    },
    {
      "cell_type": "markdown",
      "source": [
        "11) Write the internal mechanism for sum operation using reduce function on this given list[47,11,42,13]; ?\n",
        "\n",
        "Internal Mechanism\n",
        "Internally, the steps would look like:\n",
        "\n",
        "1) Initial pair: reduce(lambda x, y: x+y, [47,11,42,13])\n",
        "Fist two elements: 47+11 = 58\n",
        "Accumulator becomes 58\n",
        "\n",
        "2) Second step: reduce(lambda x, y: x+y, [58, 42, 13])\n",
        "Next pair: 58+42 = 100\n",
        "Accumulator becomes 100\n",
        "\n",
        "3) Final step: reduce(lambda x, y: x + y, [100, 13])\n",
        "Final pair: 100+13 = 113\n",
        "Accumulator is 113, which is the final result.\n",
        "\n",
        "Thus, the final output is 113."
      ],
      "metadata": {
        "id": "F2dE9oYH6Nvv"
      }
    },
    {
      "cell_type": "markdown",
      "source": [
        "Practical questions:"
      ],
      "metadata": {
        "id": "bVJUFJK_8aOy"
      }
    },
    {
      "cell_type": "markdown",
      "source": [
        "1) Write a Python function that takes a list of numbers as input and returns the sum of all even numbers in the list."
      ],
      "metadata": {
        "id": "YVLSgV_28iUa"
      }
    },
    {
      "cell_type": "code",
      "source": [
        "def sum_even_numbers(numbers):\n",
        "  return sum(filter(lambda x: x % 2 == 0, numbers))\n",
        "\n",
        "numbers = [47, 11, 42, 13, 28, 33]\n",
        "result = sum_even_numbers(numbers)\n",
        "print(result)"
      ],
      "metadata": {
        "colab": {
          "base_uri": "https://localhost:8080/"
        },
        "id": "pLCnuvvm8xFC",
        "outputId": "ba5529b0-9611-451a-f413-c31603cefb8d"
      },
      "execution_count": null,
      "outputs": [
        {
          "output_type": "stream",
          "name": "stdout",
          "text": [
            "70\n"
          ]
        }
      ]
    },
    {
      "cell_type": "markdown",
      "source": [
        "2) Create a Python function that accepts a string and returns the reverse of that string."
      ],
      "metadata": {
        "id": "anMgJm5D9cBy"
      }
    },
    {
      "cell_type": "code",
      "source": [
        "def reverse_string(input_string):\n",
        "  return input_string[::-1]\n",
        "\n",
        "result = reverse_string(\"Hello, World!\")\n",
        "print(result)"
      ],
      "metadata": {
        "colab": {
          "base_uri": "https://localhost:8080/"
        },
        "id": "Kv9-5UV39mTB",
        "outputId": "39a61f50-f7a6-478c-f24f-405a4a7970d9"
      },
      "execution_count": null,
      "outputs": [
        {
          "output_type": "stream",
          "name": "stdout",
          "text": [
            "!dlroW ,olleH\n"
          ]
        }
      ]
    },
    {
      "cell_type": "markdown",
      "source": [
        "3) Implement a Python function that takes a list of integers and returns a new list containing the squares of each other."
      ],
      "metadata": {
        "id": "s0ixBVQNqgYk"
      }
    },
    {
      "cell_type": "code",
      "source": [
        "def square_numbers(numbers):\n",
        "  return [x ** 2 for x in numbers]\n",
        "\n",
        "numbers = [1,2,3,4,5]\n",
        "result = square_numbers(numbers)\n",
        "print(result)"
      ],
      "metadata": {
        "colab": {
          "base_uri": "https://localhost:8080/"
        },
        "id": "_nKX38ZNqw1E",
        "outputId": "fb2dbd20-6ed2-42f2-851f-e3ca5ec82565"
      },
      "execution_count": 1,
      "outputs": [
        {
          "output_type": "stream",
          "name": "stdout",
          "text": [
            "[1, 4, 9, 16, 25]\n"
          ]
        }
      ]
    },
    {
      "cell_type": "markdown",
      "source": [
        "4) Write a Python function that checks if a given number is prime or not from 1 to 200."
      ],
      "metadata": {
        "id": "Pd5uN040rRwj"
      }
    },
    {
      "cell_type": "code",
      "source": [
        "def is_prime(number):\n",
        "  if number < 2:\n",
        "    return False\n",
        "\n",
        "  for i in range(2, int(number ** 0.5) + 1):\n",
        "    if number % i == 0:\n",
        "      return False\n",
        "  return True\n",
        "\n",
        "for num in range(1,201):\n",
        "  if is_prime(num):\n",
        "    print(num, end=\" \")"
      ],
      "metadata": {
        "colab": {
          "base_uri": "https://localhost:8080/"
        },
        "id": "B-pydgWfrdHF",
        "outputId": "05175b6a-900a-4107-dca1-655c709904ca"
      },
      "execution_count": 4,
      "outputs": [
        {
          "output_type": "stream",
          "name": "stdout",
          "text": [
            "2 3 5 7 11 13 17 19 23 29 31 37 41 43 47 53 59 61 67 71 73 79 83 89 97 101 103 107 109 113 127 131 137 139 149 151 157 163 167 173 179 181 191 193 197 199 "
          ]
        }
      ]
    },
    {
      "cell_type": "markdown",
      "source": [
        "5) Create an iterator class in Python that generates the Fibonacci sequence up to a specified number of terms."
      ],
      "metadata": {
        "id": "q_Dkg2_Js1tJ"
      }
    },
    {
      "cell_type": "code",
      "source": [
        "class FibonacciIterator:\n",
        "  def __init__(self, n_terms):\n",
        "    self.n_terms = n_terms\n",
        "    self.current = 0\n",
        "    self.a, self.b = 0,1\n",
        "\n",
        "  def __iter__(self):\n",
        "    return self\n",
        "\n",
        "  def __next__(self):\n",
        "    if self.current >= self.n_terms:\n",
        "      raise StopIteration\n",
        "    if self.current == 0:\n",
        "      self.current += 1\n",
        "      return self.a\n",
        "    elif self.current == 1:\n",
        "      self.current += 1\n",
        "      return self.b\n",
        "    else:\n",
        "      next_value = self.a + self.b\n",
        "      self.a, self.b = self.b, next_value\n",
        "      self.current += 1\n",
        "      return next_value\n",
        "fib_iterator = FibonacciIterator(20)\n",
        "for num in fib_iterator:\n",
        "  print(num, end=\" \")"
      ],
      "metadata": {
        "colab": {
          "base_uri": "https://localhost:8080/"
        },
        "id": "9_b42tERtFi8",
        "outputId": "92ce7854-ab94-45c5-e21a-e03a2f5a9093"
      },
      "execution_count": 6,
      "outputs": [
        {
          "output_type": "stream",
          "name": "stdout",
          "text": [
            "0 1 1 2 3 5 8 13 21 34 55 89 144 233 377 610 987 1597 2584 4181 "
          ]
        }
      ]
    },
    {
      "cell_type": "markdown",
      "source": [
        "6) Write a generator function in Python that yields the powers of 2 up to a given exponent."
      ],
      "metadata": {
        "id": "NSTo2yvyyITB"
      }
    },
    {
      "cell_type": "code",
      "source": [
        "def powers_of_twp(max_exponent):\n",
        "  for exponent in range(max_exponent + 1):\n",
        "    yield 2 ** exponent\n",
        "\n",
        "for value in powers_of_twp(5):\n",
        "  print(value, end=\" \")"
      ],
      "metadata": {
        "colab": {
          "base_uri": "https://localhost:8080/"
        },
        "id": "ubFsXlxMyWJG",
        "outputId": "20394c75-1dec-4917-b49b-790e927d9cae"
      },
      "execution_count": 7,
      "outputs": [
        {
          "output_type": "stream",
          "name": "stdout",
          "text": [
            "1 2 4 8 16 32 "
          ]
        }
      ]
    },
    {
      "cell_type": "markdown",
      "source": [
        "7) Implement a generator function that reads a file line by line and yields each line as a string."
      ],
      "metadata": {
        "id": "Zlxy7rI5y0yv"
      }
    },
    {
      "cell_type": "code",
      "source": [
        "def read_file_line_by_line(file_path):\n",
        "  with open(file_path, 'r') as file:\n",
        "    for line in file:\n",
        "      yield line.strip()\n",
        "\n",
        "file_path = 'example.txt'\n",
        "for line in read_file_line_by_line(file_path):\n",
        "  print(line)"
      ],
      "metadata": {
        "id": "LWRvmz5SzFeR"
      },
      "execution_count": null,
      "outputs": []
    },
    {
      "cell_type": "markdown",
      "source": [
        "8) Use a lambda function in python to sort a list of tuples based on the second element of each tuple."
      ],
      "metadata": {
        "id": "f-CV8m4E0XAY"
      }
    },
    {
      "cell_type": "code",
      "source": [
        "tuples_list = [(1,3),(4,1),(5,2),(2,4)]\n",
        "\n",
        "sorted_list = sorted(tuples_list, key=lambda x:x[1])\n",
        "\n",
        "print(sorted_list)"
      ],
      "metadata": {
        "colab": {
          "base_uri": "https://localhost:8080/"
        },
        "id": "GAzoyXsL0vyF",
        "outputId": "35d58020-9e16-4f8f-fe68-3173278b2383"
      },
      "execution_count": 11,
      "outputs": [
        {
          "output_type": "stream",
          "name": "stdout",
          "text": [
            "[(4, 1), (5, 2), (1, 3), (2, 4)]\n"
          ]
        }
      ]
    },
    {
      "cell_type": "markdown",
      "source": [
        "9) Write a python program that uses 'map()' to convert a list of temperatures from Celcius to Fahrenheit."
      ],
      "metadata": {
        "id": "UC6J37Yo1MNM"
      }
    },
    {
      "cell_type": "code",
      "source": [
        "def celsius_to_fahrenheit(celsius):\n",
        "  return(celsius * 9/5) + 32\n",
        "\n",
        "celsius_temperatures = [0,20,37,100]\n",
        "\n",
        "fahrenheit_temperatures = list(map(celsius_to_fahrenheit, celsius_temperatures))\n",
        "\n",
        "print(fahrenheit_temperatures)"
      ],
      "metadata": {
        "colab": {
          "base_uri": "https://localhost:8080/"
        },
        "id": "Pl0nRRMo1abD",
        "outputId": "bc5d8e4f-5bd5-431d-9303-aaa7b08f8d49"
      },
      "execution_count": 12,
      "outputs": [
        {
          "output_type": "stream",
          "name": "stdout",
          "text": [
            "[32.0, 68.0, 98.6, 212.0]\n"
          ]
        }
      ]
    },
    {
      "cell_type": "markdown",
      "source": [
        "10) Create a python program that uses 'filter()' to remove all the vowels from a given string."
      ],
      "metadata": {
        "id": "F0IQObVT2F7b"
      }
    },
    {
      "cell_type": "code",
      "source": [
        "def is_not_vowel(char):\n",
        "  vowels = 'aeiouAEIOU'\n",
        "  return char not in vowels\n",
        "\n",
        "input_string = \"Hello, World1\"\n",
        "\n",
        "filtered_string = ''.join(filter(is_not_vowel, input_string))\n",
        "\n",
        "print(filtered_string)"
      ],
      "metadata": {
        "colab": {
          "base_uri": "https://localhost:8080/"
        },
        "id": "472AXu-J2Tbf",
        "outputId": "48ac031c-dc33-47c5-88ca-17e022c15845"
      },
      "execution_count": 13,
      "outputs": [
        {
          "output_type": "stream",
          "name": "stdout",
          "text": [
            "Hll, Wrld1\n"
          ]
        }
      ]
    },
    {
      "cell_type": "markdown",
      "source": [
        "11) Write a python program, which returns a list with 2-tuples. Each tuple consists of the order number and the product of the price per item and the quantity. The product should be increased by 10,if the value of the order is smaller than 100,00 euro.\n",
        "Write a python program using lambda and map."
      ],
      "metadata": {
        "id": "94_h_lhf3hk-"
      }
    },
    {
      "cell_type": "code",
      "source": [
        "orders = [[34587, \"Learning Python, Mark Lutz\", 4, 40.95],\n",
        "          [98762, \"Programming Python, Mark Lutz\", 3, 56.80],\n",
        "          [77226, \"Head First Python, Paul Barry\",32,32.95],\n",
        "          [88112, \"Einfuhrung in Python3, Bernd Klein\", 1, 24.99]]\n",
        "\n",
        "result = list(map(lambda order: (order[0], order[2] * order[3] + (10 if order[2] * order[3] < 100 else 0)), orders))\n",
        "\n",
        "print(result)"
      ],
      "metadata": {
        "colab": {
          "base_uri": "https://localhost:8080/"
        },
        "id": "DBv3RlhZ4iCb",
        "outputId": "44c7a216-b341-4232-b7de-becf492e74d3"
      },
      "execution_count": 14,
      "outputs": [
        {
          "output_type": "stream",
          "name": "stdout",
          "text": [
            "[(34587, 163.8), (98762, 170.39999999999998), (77226, 1054.4), (88112, 34.989999999999995)]\n"
          ]
        }
      ]
    }
  ]
}